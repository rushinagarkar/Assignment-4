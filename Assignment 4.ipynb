{
 "cells": [
  {
   "cell_type": "markdown",
   "id": "59ac26ea",
   "metadata": {},
   "source": [
    "1.1 Write a Python Program(with class concepts) to find the area of the triangle using the below  formula. \n",
    "area = (s*(s-a)*(s-b)*(s-c)) ** 0.5 \n",
    "Function to take the length of the sides of triangle from user should be defined in the parent  class and function to calculate the area should be defined in subclass. \n"
   ]
  },
  {
   "cell_type": "code",
   "execution_count": 1,
   "id": "0c0e8de7",
   "metadata": {},
   "outputs": [
    {
     "name": "stdout",
     "output_type": "stream",
     "text": [
      "Enter the length of triangle a,b,c respectively:2 4 6\n",
      "Area of the triangle is 0.00\n"
     ]
    }
   ],
   "source": [
    "class A:\n",
    "    def __init__(self):\n",
    "        self.a,self.b,self.c=list(map(int,input('Enter the length of triangle a,b,c respectively:').split()))\n",
    "class B(A):\n",
    "    def cal(self):\n",
    "        s=(self.a+self.b+self.c)/2\n",
    "        print('Area of the triangle is %0.2f'%(s*(s-self.a)*(s-self.b)*(s-self.c))**0.5)\n",
    "obj=B()\n",
    "obj.cal()\n",
    "    "
   ]
  },
  {
   "cell_type": "markdown",
   "id": "359b8ecf",
   "metadata": {},
   "source": [
    "1.2 Write a function filter_long_words() that takes a list of words and an integer n and returns\n",
    "the list of words that are longer than n."
   ]
  },
  {
   "cell_type": "code",
   "execution_count": 7,
   "id": "045de486",
   "metadata": {},
   "outputs": [
    {
     "name": "stdout",
     "output_type": "stream",
     "text": [
      "Enter list of word:Complication is part of life and success is art of life\n",
      "Enter the number:4\n"
     ]
    },
    {
     "data": {
      "text/plain": [
       "['Complication', 'success']"
      ]
     },
     "execution_count": 7,
     "metadata": {},
     "output_type": "execute_result"
    }
   ],
   "source": [
    "def filter_long_words(lst,num):\n",
    "    return [i for i in lst if len(i)>num]\n",
    "filter_long_words(input('Enter list of word:').split(),int(input('Enter the number:')))      "
   ]
  },
  {
   "cell_type": "markdown",
   "id": "e37cbe7b",
   "metadata": {},
   "source": [
    "2.1 Write a Python program using function concept that maps list of words into a list of integers\n",
    "representing the lengths of the corresponding words."
   ]
  },
  {
   "cell_type": "code",
   "execution_count": 8,
   "id": "d43556d8",
   "metadata": {},
   "outputs": [
    {
     "name": "stdout",
     "output_type": "stream",
     "text": [
      "Enter the some words: Complication is part of life and success is art of life\n"
     ]
    },
    {
     "data": {
      "text/plain": [
       "[12, 2, 4, 2, 4, 3, 7, 2, 3, 2, 4]"
      ]
     },
     "execution_count": 8,
     "metadata": {},
     "output_type": "execute_result"
    }
   ],
   "source": [
    "def count_len(lst):\n",
    "    return [len(i) for i in lst ]\n",
    "count_len(input('Enter the some words: ').split())    "
   ]
  },
  {
   "cell_type": "markdown",
   "id": "8ed38631",
   "metadata": {},
   "source": [
    "2.2 Write a Python function which takes a character (i.e. a string of length 1) and returns True if\n",
    "it is a vowel, False otherwise."
   ]
  },
  {
   "cell_type": "code",
   "execution_count": null,
   "id": "3104c507",
   "metadata": {},
   "outputs": [],
   "source": []
  },
  {
   "cell_type": "code",
   "execution_count": null,
   "id": "2b2ac3bd",
   "metadata": {},
   "outputs": [],
   "source": []
  },
  {
   "cell_type": "code",
   "execution_count": null,
   "id": "f43ffce4",
   "metadata": {},
   "outputs": [],
   "source": []
  }
 ],
 "metadata": {
  "kernelspec": {
   "display_name": "Python 3 (ipykernel)",
   "language": "python",
   "name": "python3"
  },
  "language_info": {
   "codemirror_mode": {
    "name": "ipython",
    "version": 3
   },
   "file_extension": ".py",
   "mimetype": "text/x-python",
   "name": "python",
   "nbconvert_exporter": "python",
   "pygments_lexer": "ipython3",
   "version": "3.8.9"
  }
 },
 "nbformat": 4,
 "nbformat_minor": 5
}
